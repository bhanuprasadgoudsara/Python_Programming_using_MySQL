{
 "cells": [
  {
   "cell_type": "markdown",
   "id": "212a2c3f",
   "metadata": {},
   "source": [
    "## The Login Problem:\n",
    "\n",
    "Steve was trying to access his Gmail.\n",
    "\n",
    "Absent mindedly he entered a wrong password and immediately Gmail informed him with a message that his password was wrong.\n",
    "\n",
    "In this case Steve was entering the password in his computer.\n",
    "\n",
    "His actual password is present in a database.\n",
    "\n",
    "Gmail application comes in between the two and validates the entry.\n",
    "\n",
    "<img src=\"db1.png\">\n",
    "\n",
    "## Need for DB programming:\n",
    "\n",
    "In real life scenarios, the end user will not know anything about Database. \n",
    "\n",
    "We can't expect an end user to write queries to get his data from the Database.\n",
    "\n",
    "In all applications like facebook, gmail, internet banking, whatsapp and so on, the application is what connects to the database, retrieves the data, operates on the data and finally gives meaningful information to the user.\n",
    "\n",
    "<img src=\"db2.png\">\n",
    "\n",
    "The underlying language of the application can be anything, including Python! \n",
    "\n",
    "In this course we will take a look at how to write Python programs which will connect to a Database.\n",
    "\n",
    "# Python database programming\n",
    "\n",
    "Database programming with Python is very easy.\n",
    "\n",
    "You just need 8 lines of code to insert a record into a database table from Python. \n",
    "\n",
    "Take a look!"
   ]
  },
  {
   "cell_type": "code",
   "execution_count": null,
   "id": "ab778d2e",
   "metadata": {},
   "outputs": [],
   "source": [
    "! pip install mysql-connector-python"
   ]
  },
  {
   "cell_type": "code",
   "execution_count": 2,
   "id": "14254db8",
   "metadata": {},
   "outputs": [],
   "source": [
    "import mysql.connector\n",
    "config = {\n",
    "  'user': 'bhanu',\n",
    "  'password': 'infy123',\n",
    "  'host': 'localhost',\n",
    "  'database': 'Computer',\n",
    "  'raise_on_warnings': True\n",
    "}"
   ]
  },
  {
   "cell_type": "code",
   "execution_count": null,
   "id": "d692c4e3",
   "metadata": {},
   "outputs": [],
   "source": [
    "import mysql.connector\n",
    "# import mysql.connector as mysqlconn\n",
    "con = mysql.connector.connect(host = \"localhost\", user = \"bhanu\", passwd = \"infy123\", database = \"database\")\n",
    "# con = mysqlconn.connect()\n",
    "cur = con.cursor()\n",
    "cur.execute( \"INSERT INTO Computer VALUES (1005, 'Dell', 'Vostro', 2013)\" )\n",
    "print(cur.rowcount)\n",
    "cur.close()\n",
    "con.commit()\n",
    "con.close()"
   ]
  },
  {
   "cell_type": "markdown",
   "id": "858e42b1",
   "metadata": {},
   "source": [
    "Closer look at the earlier code reveals four major steps in connecting to a MySQL Database:\n",
    "\n",
    "<img src=\"db3.png\">\n",
    "\n",
    "Let us see each of these steps in detail\n",
    "\n",
    "## Establish a connection:\n",
    "\n",
    "mysql-connector, a third party module for Python, allows us to connect to an MySQL Database from a Python program.\n",
    "\n",
    "This module has many important classes and functions which help us connect to a MySQL database.\n",
    "\n",
    "To use the module, we need to import it as:"
   ]
  },
  {
   "cell_type": "code",
   "execution_count": null,
   "id": "1a382755",
   "metadata": {},
   "outputs": [],
   "source": [
    "import mysql.connector"
   ]
  },
  {
   "cell_type": "markdown",
   "id": "ef1bf4db",
   "metadata": {},
   "source": [
    "We use MySQL client to connect to MySQL database, \n",
    "\n",
    "similarly, we can make a Python program connect to a database.\n",
    "\n",
    "The username, password, Server name/address and Database name are mentioned to establish a connection.\n",
    "\n",
    "## Connecting to MySQL:\n",
    "\n",
    "mysql-connector module has the connect method. \n",
    "\n",
    "Invoking the connect method by passing the connection credentials, server and database details, creates a connection object.\n",
    "\n",
    "For example,"
   ]
  },
  {
   "cell_type": "code",
   "execution_count": null,
   "id": "79e22e6c",
   "metadata": {},
   "outputs": [],
   "source": [
    "con = mysql.connector.connect( host = \"host\", user = \"username\", passwd = \"password\", database = \"database\" )"
   ]
  },
  {
   "cell_type": "markdown",
   "id": "936e6c43",
   "metadata": {},
   "source": [
    "The connection object is used to perform all operations with the database.\n",
    "\n",
    "## Executing a query\n",
    "\n",
    "To execute any type of query, we need to use the Cursor object.\n",
    "\n",
    "The Cursor object in Python is different from the database cursor of PL/SQL.\n",
    "\n",
    "It is created by invoking the cursor method of connection object.\n",
    "\n",
    "Any query is executed by using the execute() method of the cursor object."
   ]
  },
  {
   "cell_type": "code",
   "execution_count": null,
   "id": "0178ea24",
   "metadata": {},
   "outputs": [],
   "source": [
    "cur = con.cursor()\n",
    "cur.execute( \"INSERT INTO Computer VALUES ( 100, 'Toshiba', 5688, 2013 )\" )"
   ]
  },
  {
   "cell_type": "markdown",
   "id": "ec248712",
   "metadata": {},
   "source": [
    "The number of concurrent connections available to a database are finite and limited. \n",
    "\n",
    "If many connections to the database are kept open, database will run out of connections for other users.\n",
    "\n",
    "Therefore at the end of all operations, the cursor and connection has to be closed.\n",
    "\n",
    "This is done by using the close() method of the cursor object as well as connection object.\n",
    "\n",
    "The syntax is as follows:"
   ]
  },
  {
   "cell_type": "code",
   "execution_count": null,
   "id": "a96b8faa",
   "metadata": {},
   "outputs": [],
   "source": [
    "cur.close()\n",
    "con.close()"
   ]
  },
  {
   "cell_type": "markdown",
   "id": "ac34c3a4",
   "metadata": {},
   "source": [
    "## Deleting records from a table\n",
    "\n",
    "Any valid DML query can be written and executed through Python. For example,"
   ]
  },
  {
   "cell_type": "code",
   "execution_count": null,
   "id": "a607378c",
   "metadata": {},
   "outputs": [],
   "source": [
    "import mysql.connector\n",
    "con = mysql.connector.connect( host = 'localhost', user = 'username', passwd = 'password', database = 'database' )\n",
    "cur = con.cursor()\n",
    "cur.execute( 'DELETE FROM Computer WHERE CompId = 100' )\n",
    "print(cur.rowcount)\n",
    "cur.close()\n",
    "con.close()"
   ]
  },
  {
   "cell_type": "markdown",
   "id": "20757034",
   "metadata": {},
   "source": [
    "The cursor object has a rowcount attribute which is used to get the number of rows affected by the last query.\n",
    "\n",
    "## Committing a transaction:\n",
    "\n",
    "All DML statement transactions are not auto committed by default. \n",
    "\n",
    "Thus any DML operations done through Python will be lost once the connection is closed.\n",
    "\n",
    "To ensure that the DML operations are not lost after the connection, the commit() method has to be invoked on the connection object."
   ]
  },
  {
   "cell_type": "code",
   "execution_count": null,
   "id": "77f6b990",
   "metadata": {},
   "outputs": [],
   "source": [
    "import mysql.connector\n",
    "con = mysql.connector.connect( host = 'host', user = 'username', passwd = 'password', database = 'database' )\n",
    "cur = con.cursor()\n",
    "cur.execute( 'DELETE FROM Computer WHERE CompId = 100' )\n",
    "print(cur.rowcount)\n",
    "cur.close()\n",
    "con.commit();\n",
    "con.close()"
   ]
  },
  {
   "cell_type": "markdown",
   "id": "240b44b5",
   "metadata": {},
   "source": [
    "Try out the code and observe the results."
   ]
  },
  {
   "cell_type": "code",
   "execution_count": null,
   "id": "826f637f",
   "metadata": {},
   "outputs": [],
   "source": [
    "import mysql.connector\n",
    "con = mysql.connector.connect( host = 'host', user = 'username', passwd = 'password', database = 'database' )\n",
    "cur = con.cursor()\n",
    "parameter = \"100\"\n",
    "query = 'DELETE FROM Computer WHERE CompId = ' + parameter\n",
    "cur.execute( query )\n",
    "print(cur.rowcount)\n",
    "cur.close()\n",
    "con.commit();\n",
    "con.close()"
   ]
  },
  {
   "cell_type": "markdown",
   "id": "bea9bb45",
   "metadata": {},
   "source": [
    "## Exception Handling:\n",
    "\n",
    "mysql-connector module allows us to get details of the error code \n",
    "\n",
    "and error message that is generated by MySQL when the query executed has some errors. \n",
    "\n",
    "These details are stored in the mysql.connector.ProgrammingError class."
   ]
  },
  {
   "cell_type": "code",
   "execution_count": null,
   "id": "572bf4f6",
   "metadata": {},
   "outputs": [],
   "source": [
    "import mysql.connector\n",
    "con = mysql.connector.connect( host = 'host', user = 'username', passwd = 'password', database = 'database' )\n",
    "cur = con.cursor()\n",
    "try:\n",
    "    cur.execute( 'INSERT FROM Computer_1 VALUES (100)' )\n",
    "    con.commit()\n",
    "except mysql.connector.ProgrammingError as e:\n",
    "    print(e)\n",
    "finally:\n",
    "    con.close()"
   ]
  },
  {
   "cell_type": "markdown",
   "id": "27748a86",
   "metadata": {},
   "source": [
    "The above code has an error in the query. \n",
    "\n",
    "The output of the print statement is 1146 (42S02): Table 'yourdatabase.computer_1' doesn't exist. \n",
    "\n",
    "It is always a good practice to close connections in the finally block.\n",
    "\n",
    "## Exception Handling:\n",
    "\n",
    "Apart from the Oracle exceptions that can occur while executing an improper query, \n",
    "\n",
    "errors can also occur due to wrong usage of cx_Oracle module such as:\n",
    "\n",
    "1. The cursor can be used only when the connection is established. Trying to use a cursor after closing the connection will lead to errors.\n",
    "\n",
    "2. Trying to perform a cursor operation after closing the cursor will lead to error\n",
    "\n",
    "3. Creating a cursor without a connection object will lead to an error.\n",
    "\n",
    "<img src=\"db6.png\">\n",
    "\n",
    "The below code has error. Observe the output to understand what the error is and try to fix it."
   ]
  },
  {
   "cell_type": "code",
   "execution_count": null,
   "id": "7c895d1d",
   "metadata": {},
   "outputs": [],
   "source": [
    "import mysql.connector\n",
    "con = mysql.connector.connect( host = 'host', user = 'username', passwd = 'password', database = 'database' )\n",
    "cur = con.cursor()\n",
    "try:\n",
    "    cur.execute( 'INSERT FROM Computer VALUES (100)' )\n",
    "    con.commit()\n",
    "except mysql.connector.ProgrammingError as e:\n",
    "    print(e)\n",
    "finally:\n",
    "    con.close()"
   ]
  },
  {
   "cell_type": "markdown",
   "id": "217e3704",
   "metadata": {},
   "source": [
    "Modify the code to recreate other error scenarios previously discussed and observe the output.\n",
    "\n",
    "## Select Query\n",
    "\n",
    "Processing the result of a select query is different from the other DML statements. \n",
    "\n",
    "While execution, DML statements return number of rows affected, executing a select query returns the rows fetched by the query."
   ]
  },
  {
   "cell_type": "code",
   "execution_count": null,
   "id": "4a1165df",
   "metadata": {},
   "outputs": [],
   "source": [
    "import mysql.connector\n",
    "con = mysql.connector.connect( host = 'host', user = 'username', passwd = 'password', database = 'database' )\n",
    "cur = con.cursor()\n",
    "cur.execute(\"SELECT * FROM Computer\")\n",
    "for row in cur:\n",
    "    print(row)\n",
    "cur.close()\n",
    "con.close()"
   ]
  },
  {
   "cell_type": "markdown",
   "id": "1af4dfa7",
   "metadata": {},
   "source": [
    "The return value of a select query is a list of rows and we can iterate row by row. \n",
    "\n",
    "Each row is represented as a tuple.\n",
    "\n",
    "The column values retrieved from the query are converted from the MySQL data types to their equivalent Python datatypes.\n",
    "\n",
    "For example, \"Varchar2\" is converted automatically to \"string\" in Python.\n",
    "\n",
    "## Fetch methods:\n",
    "\n",
    "Data from the result set of a select query can be retrieved using the fetch methods of cursor object. \n",
    "\n",
    "There are three fetch methods, \n",
    "\n",
    "1. **fetchone** - used to fetch one record from the result set\n",
    "2. **fetchall** - used to fetch all the records from the result set\n",
    "3. **fetchmany** - used to fetch multiple records from database. fetch many accepts a default parameter **number**. When passed, the method will fetch give number of record. Else, it will fetch only one record."
   ]
  },
  {
   "cell_type": "code",
   "execution_count": null,
   "id": "47152e91",
   "metadata": {},
   "outputs": [],
   "source": [
    "import mysql.connector\n",
    "con = mysql.connector.connect( host = 'host', user = 'username', passwd = 'password', database = 'database' )\n",
    "cur = con.cursor()\n",
    "cur.execute('SELECT * FROM Computer')\n",
    "#print(cur.fetchone())\n",
    "#print(cur.fetchall())\n",
    "#print(cur.fetchmany())\n",
    "#print(cur.fetchmany(2))\n",
    "cur.close()\n",
    "con.close()"
   ]
  },
  {
   "cell_type": "markdown",
   "id": "62fd8fda",
   "metadata": {},
   "source": [
    "Uncomment each comment and observe the results.\n",
    "\n",
    "The following are the corresponding Python data types for MySQL datatypes\n",
    "\n",
    "<img src = \"dbDT.png\">\n",
    "\n",
    "When we get a row from the cursor, the individual elements of the row tuple relate to the individual columns. For example,"
   ]
  },
  {
   "cell_type": "raw",
   "id": "771a0019",
   "metadata": {},
   "source": [
    "SELECT * FROM Computer"
   ]
  },
  {
   "cell_type": "markdown",
   "id": "ea8d4342",
   "metadata": {},
   "source": [
    "This selects all the 4 columns in the table. \n",
    "\n",
    "Hence each row extracted as a tuple will have four elements in it. \n",
    "\n",
    "The first column in the table will the first element in the tuple.\n",
    "\n",
    "When we select only specific columns, for example,"
   ]
  },
  {
   "cell_type": "raw",
   "id": "feb145fc",
   "metadata": {},
   "source": [
    "SELECT Make,CompId FROM Computer"
   ]
  },
  {
   "cell_type": "markdown",
   "id": "c65a992d",
   "metadata": {},
   "source": [
    "The row tuple will now have only two elements where the first element will be make and the second element will be compId.\n",
    "\n",
    "Thus the order of elements in a tuple depends on the order of columns specified in the SELECT clause. \n",
    "\n",
    "If the column names are not specified the order of elements in the tuple depends on the order in which the columns are defined for the table in database\n",
    "\n",
    "\n",
    "We can extract the individual columns from the row tuple in two ways:\n",
    "\n",
    "In the first way, individual variable names are used for each value in the tuple:"
   ]
  },
  {
   "cell_type": "code",
   "execution_count": null,
   "id": "7f27c1c2",
   "metadata": {},
   "outputs": [],
   "source": [
    "cur.execute(\"SELECT * FROM Computer\")\n",
    "for column1, column2, column3, column4 in cur:\n",
    "    print(column3, column1)"
   ]
  },
  {
   "cell_type": "markdown",
   "id": "42716b34",
   "metadata": {},
   "source": [
    "Note: In the above example column1, column2, etc are actually Python variables. \n",
    "\n",
    "These names have no connection to the database.\n",
    "\n",
    "In the second way the entire tuple is stored in a single Python variable:"
   ]
  },
  {
   "cell_type": "code",
   "execution_count": null,
   "id": "3a8726db",
   "metadata": {},
   "outputs": [],
   "source": [
    "cur.execute(\"SELECT * FROM Computer\")\n",
    "for row in cur:\n",
    "    print(row[2], row[0])"
   ]
  },
  {
   "cell_type": "markdown",
   "id": "8b9350ff",
   "metadata": {},
   "source": [
    "We can access individual columns by using the index position, which starts with zero.\n",
    "\n",
    "## Select Query:\n",
    "\n",
    "We have already seen that the column names in the query have no significance in the Python code.\n",
    "\n",
    "The column values are converted into their equivalent Python data types."
   ]
  },
  {
   "cell_type": "code",
   "execution_count": null,
   "id": "b13d0058",
   "metadata": {},
   "outputs": [],
   "source": [
    "import mysql.connector\n",
    "con = mysql.connector.connect( host = 'host', user = 'username', passwd = 'password', database = 'database' )\n",
    "cur = con.cursor()\n",
    "cur.execute('SELECT sum(Salary) AS sum FROM Employee')\n",
    "for row in cur:\n",
    "    print(row[0])\n",
    "cur.close()\n",
    "con.commit()\n",
    "con.close()"
   ]
  },
  {
   "cell_type": "markdown",
   "id": "bd049f59",
   "metadata": {},
   "source": [
    "In the above code, we are using an alias, but in the Python code, we are just interested in the value of the column and not the column name itself.\n",
    "\n",
    "## Parameters in Query\n",
    "\n",
    "Let us assume we have list of computer Id’s. \n",
    "\n",
    "We wish to print all the details of computers whose computer Id is present in the list.\n",
    "\n",
    "A simpler approach would be to use a parameter in the query and place in the query inside a loop. \n",
    "\n",
    "For each loop, a different value is substituted for the parameter."
   ]
  },
  {
   "cell_type": "code",
   "execution_count": null,
   "id": "77631776",
   "metadata": {},
   "outputs": [],
   "source": [
    "import mysql.connector\n",
    "con = mysql.connector.connect( host = 'host', user = 'username', passwd = 'password', database = 'database' )\n",
    "cur = con.cursor()\n",
    "list_of_Id = [100,101,103,104]\n",
    "for id in list_of_Id:\n",
    "    cur.execute( 'SELECT * FROM Computer WHERE CompId =', str(id) )\n",
    "    for CompId, Make, Mdl, MYear in cur:\n",
    "        print(Make, CompId)\n",
    "cur.close()\n",
    "con.close()"
   ]
  },
  {
   "cell_type": "markdown",
   "id": "83562c7e",
   "metadata": {},
   "source": [
    "The problem with this approach is the query will be compiled by MySQL every time in the loop. \n",
    "\n",
    "If the loop runs 1000 times, then the query will be compiled by Oracle 1000 times leading to performance issues.\n",
    "\n",
    "When we need to execute the same query repeatedly, but we just want to substitute the values each time, then we can use bind variables. \n",
    "\n",
    "They improve performance."
   ]
  },
  {
   "cell_type": "code",
   "execution_count": null,
   "id": "65b5c136",
   "metadata": {},
   "outputs": [],
   "source": [
    "import mysql.connector\n",
    "con = mysql.connector.connect( host = 'host', user = 'username', passwd = 'password', database = 'database' )\n",
    "cur = con.cursor()\n",
    "list_of_Id = [100,101,103,104]\n",
    "for id in list_of_Id:\n",
    "    cur.execute( \"SELECT * FROM Computer WHERE CompId = %(c_id)s\", {\"c_id\":id} )\n",
    "    for CompId, Make, Mdl, MYear in cur:\n",
    "        print(Make, CompId)\n",
    "cur.close()\n",
    "con.close()"
   ]
  },
  {
   "cell_type": "markdown",
   "id": "eb867a62",
   "metadata": {},
   "source": [
    "Here c_id is the bind variable\n",
    "\n",
    "## Bind in queries:\n",
    "\n",
    "Bind variables are not Python variables. \n",
    "\n",
    "They are actually variables used in MySQL. \n",
    "\n",
    "They start with a percentage symbol.\n",
    "\n",
    "<img src = \"db7.png\">"
   ]
  },
  {
   "cell_type": "markdown",
   "id": "9cbf79bf",
   "metadata": {},
   "source": [
    "The mapping between the bind variables and Python variables are supplied through a dictionary. \n",
    "\n",
    "This dictionary has key as the bind variable and the corresponding value as the Python variable. \n",
    "\n",
    "The value of Python variable/value is substituted in MySQL bind variable and is then sent to MySQL.\n",
    "\n",
    "## Bind variables in queries:\n",
    "\n",
    "When we use bind variables, the MySQL database will reuse the query thus improving the performance. \n",
    "\n",
    "One caution in using bind for queries is that using bind variables will improve performance only if the query is executed repeatedly for the same connection. \n",
    "\n",
    "If the query is executed in a new connection every time, this will not improve the performance."
   ]
  },
  {
   "cell_type": "code",
   "execution_count": null,
   "id": "a9ebca7e",
   "metadata": {},
   "outputs": [],
   "source": [
    "import mysql.connector\n",
    "list_of_Id = [100,101,103,104]\n",
    "for id in list_of_Id:\n",
    "    con = mysql.connector.connect( host = 'host', user = 'username', passwd = 'password', database = 'database' )\n",
    "    cur = con.cursor()\n",
    "    cur.execute( \"SELECT * FROM Computer WHERE CompId = %(c_id)s\", {\"c_id\":id} )\n",
    "    for CompId, Make, Mdl, MYear in cur:\n",
    "        print(Make, CompId)\n",
    "    cur.close()\n",
    "    con.close()"
   ]
  },
  {
   "cell_type": "markdown",
   "id": "656d7c43",
   "metadata": {},
   "source": [
    "In the above code, since the query is executed in a new connection every time, this will not improve the performance.\n",
    "\n",
    "## Multiple operations\n",
    "\n",
    "We can perform multiple operations in a single connection. \n",
    "\n",
    "Let us try to increment the year of all the ‘Dell’ computers by 1"
   ]
  },
  {
   "cell_type": "code",
   "execution_count": null,
   "id": "9317e388",
   "metadata": {},
   "outputs": [],
   "source": [
    "import mysql.connector\n",
    "con = mysql.connector.connect( host = 'host', user = 'username', passwd = 'password', database = 'database' )\n",
    "cur = con.cursor()\n",
    "cur.execute(\"SELECT CompId, MYear FROM Computer WHERE Make = 'Dell'\")\n",
    "for CompId, MYear in cur:\n",
    "    new_year = int(MYear) + 1\n",
    "    cur2 = con.cursor()\n",
    "    cur2.execute( \"UPDATE Computer SET MYear = %(year)s WHERE CompId = %(c_id)s\", { 'year':new_year, 'c_id':CompId } )\n",
    "cur.close()\n",
    "con.commit()\n",
    "con.close()"
   ]
  },
  {
   "cell_type": "markdown",
   "id": "0c9f0fb5",
   "metadata": {},
   "source": [
    "## Invoking Stored Functions:\n",
    "\n",
    "Stored functions that are stored in the Database can also be invoked using execute method of cursor.\n",
    "\n",
    "The required arguments can be passed by argument binding during the function call. \n",
    "\n",
    "The below is the Function definition."
   ]
  },
  {
   "cell_type": "raw",
   "id": "d76f396a",
   "metadata": {},
   "source": [
    "DELIMITER //\n",
    "CREATE FUNCTION Increase_by_100 (NUMBER INT) RETURNS INT\n",
    "BEGIN\n",
    "RETURN NUMBER+100;\n",
    "END\n",
    "//"
   ]
  },
  {
   "cell_type": "markdown",
   "id": "3a5191cc",
   "metadata": {},
   "source": [
    "The above function can be invoked from the python script as follows:"
   ]
  },
  {
   "cell_type": "code",
   "execution_count": null,
   "id": "ec4625c0",
   "metadata": {},
   "outputs": [],
   "source": [
    "import mysql.connector\n",
    "con = mysql.connector.connect( host = 'host', user = 'username', passwd = 'password', database = 'database' )\n",
    "cur = con.cursor()\n",
    "cur.execute('SELECT INCREASE_BY_100(%s)',[10])\n",
    "print(cur.fetchone())"
   ]
  },
  {
   "cell_type": "markdown",
   "id": "64216d3e",
   "metadata": {},
   "source": [
    "The return value of the function will be stored in the cursor object and can be fetched.\n",
    "\n",
    "## Invoking Stored Procedures:\n",
    "\n",
    "To Invoke a Stored Procedure, the callproc method of cursor should be used.\n",
    "\n",
    "The arguments that are needed needs to be passed as a list in the second argument. \n",
    "\n",
    "This method will return another list similar to argument list which contains the changes to the OUT/INOUT arguments passed.\n",
    "\n",
    "The following is the stored procedure definition:"
   ]
  },
  {
   "cell_type": "raw",
   "id": "18bef47f",
   "metadata": {},
   "source": [
    "CREATE PROCEDURE promotion_discount(IN DISCOUNT INT, INOUT PRICE INT)\n",
    "BEGIN\n",
    "SET PRICE=PRICE*(1-DISCOUNT/100)\n",
    "END"
   ]
  },
  {
   "cell_type": "markdown",
   "id": "7ae41384",
   "metadata": {},
   "source": [
    "The above procedure can be invoked as follows:"
   ]
  },
  {
   "cell_type": "code",
   "execution_count": null,
   "id": "49f050cb",
   "metadata": {},
   "outputs": [],
   "source": [
    "import mysql.connector\n",
    "con = mysql.connector.connect( host = 'host', user = 'username', passwd = 'password', database = 'database' )\n",
    "cur = con.cursor()\n",
    "args = [10,1000]\n",
    "res = cur.callproc('promotion_discount', args)\n",
    "print(res)"
   ]
  },
  {
   "cell_type": "markdown",
   "id": "7019f015",
   "metadata": {},
   "source": [
    "# Summary\n",
    "\n",
    "- Connecting to a database using connect function of mysql.connector\n",
    "- Creating a cursor to perform CRUD operations\n",
    "- Executing Queries using Execute method of cursor\n",
    "- Invoking Stored Procedure using **callproc** method of cursor\n",
    "\n",
    "    **NOTE:** Connection to Oracle DB is also similar. We need to use cx_Oracle module to connect python script to Oracle database"
   ]
  }
 ],
 "metadata": {
  "kernelspec": {
   "display_name": "Python 3",
   "language": "python",
   "name": "python3"
  },
  "language_info": {
   "codemirror_mode": {
    "name": "ipython",
    "version": 3
   },
   "file_extension": ".py",
   "mimetype": "text/x-python",
   "name": "python",
   "nbconvert_exporter": "python",
   "pygments_lexer": "ipython3",
   "version": "3.8.8"
  }
 },
 "nbformat": 4,
 "nbformat_minor": 5
}
